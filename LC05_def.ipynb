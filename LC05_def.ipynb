{
  "nbformat": 4,
  "nbformat_minor": 0,
  "metadata": {
    "colab": {
      "provenance": [],
      "authorship_tag": "ABX9TyOvWRbzs7Pw/VfIN0uuYSH9",
      "include_colab_link": true
    },
    "kernelspec": {
      "name": "python3",
      "display_name": "Python 3"
    },
    "language_info": {
      "name": "python"
    }
  },
  "cells": [
    {
      "cell_type": "markdown",
      "metadata": {
        "id": "view-in-github",
        "colab_type": "text"
      },
      "source": [
        "<a href=\"https://colab.research.google.com/github/PakinWasu/PythonClass/blob/main/LC05_def.ipynb\" target=\"_parent\"><img src=\"https://colab.research.google.com/assets/colab-badge.svg\" alt=\"Open In Colab\"/></a>"
      ]
    },
    {
      "cell_type": "code",
      "source": [
        "def message():\n",
        "  print('I am Pakin')\n",
        "  print('I Love Python')\n",
        "\n",
        "message()"
      ],
      "metadata": {
        "id": "bDhi7e2hHEhi"
      },
      "execution_count": null,
      "outputs": []
    },
    {
      "cell_type": "code",
      "execution_count": 4,
      "metadata": {
        "colab": {
          "base_uri": "https://localhost:8080/"
        },
        "id": "3eJcErbvFvFE",
        "outputId": "2cb688d8-8301-4145-a85d-53603a7b9113"
      },
      "outputs": [
        {
          "output_type": "stream",
          "name": "stdout",
          "text": [
            "I have a message for you\n",
            "I am Pakin\n",
            "I Love Python\n",
            "Goodbye!\n"
          ]
        }
      ],
      "source": [
        "def main ():\n",
        "  print('I have a message for you')\n",
        "  message()\n",
        "  print('Goodbye!')\n",
        "def message():\n",
        "  print('I am Pakin')\n",
        "  print('I Love Python')\n",
        "\n",
        "main()"
      ]
    },
    {
      "cell_type": "code",
      "source": [
        "def main():\n",
        "  texas()\n",
        "  california()\n",
        "\n",
        "def texas ():\n",
        "  birds = 5000\n",
        "  print(\"texas has\",birds,'birds')\n",
        "\n",
        "def california ():\n",
        "  birds = 8000\n",
        "  print(\"california has\",birds,'birds')\n",
        "\n",
        "main()"
      ],
      "metadata": {
        "colab": {
          "base_uri": "https://localhost:8080/"
        },
        "id": "1UwP-lBTKaq4",
        "outputId": "8619c4ba-9c6a-47bc-8bc8-10fb020fc30d"
      },
      "execution_count": 8,
      "outputs": [
        {
          "output_type": "stream",
          "name": "stdout",
          "text": [
            "texas has 5000 birds\n",
            "california has 8000 birds\n"
          ]
        }
      ]
    },
    {
      "cell_type": "code",
      "source": [
        "def main():\n",
        "  value = 5\n",
        "  show_double(value)\n",
        "def show_double(number):\n",
        "  result = number*2\n",
        "  print(result)\n",
        "\n",
        "main()"
      ],
      "metadata": {
        "colab": {
          "base_uri": "https://localhost:8080/"
        },
        "id": "cm619ICiGoLD",
        "outputId": "a4c7882b-238e-4505-b882-ccb52aa6ea96"
      },
      "execution_count": 10,
      "outputs": [
        {
          "output_type": "stream",
          "name": "stdout",
          "text": [
            "10\n"
          ]
        }
      ]
    },
    {
      "cell_type": "code",
      "source": [
        "def main():\n",
        "  print(\"The sum of 12 and 45 is\")\n",
        "  show_sum(12,45)\n",
        "\n",
        "def show_sum(num1,num2):\n",
        "  result=num1+num2\n",
        "  print(result)\n",
        "\n",
        "main()\n"
      ],
      "metadata": {
        "colab": {
          "base_uri": "https://localhost:8080/"
        },
        "id": "Q2Wucwq5N6I3",
        "outputId": "12c313fd-423d-4655-9cb7-84b1216b88a7"
      },
      "execution_count": 11,
      "outputs": [
        {
          "output_type": "stream",
          "name": "stdout",
          "text": [
            "The sum of 12 and 45 is\n",
            "57\n"
          ]
        }
      ]
    },
    {
      "cell_type": "code",
      "source": [
        "def main():\n",
        "  value = 99\n",
        "  print('The value is',value)\n",
        "  change_me(value)\n",
        "  print('Back in main the value is',value)\n",
        "\n",
        "def change_me(arg):\n",
        "  print('I am changing the value.')\n",
        "  arg = 0\n",
        "  print('Now the value is',arg)\n",
        "\n",
        "main()"
      ],
      "metadata": {
        "colab": {
          "base_uri": "https://localhost:8080/"
        },
        "id": "sg2iNANdOeev",
        "outputId": "81c50a7c-e295-4803-ab06-7d3f6f3f0c8a"
      },
      "execution_count": 12,
      "outputs": [
        {
          "output_type": "stream",
          "name": "stdout",
          "text": [
            "The value is 99\n",
            "I am changing the value.\n",
            "Now the value is 0\n",
            "Back in main the value is 99\n"
          ]
        }
      ]
    },
    {
      "cell_type": "code",
      "source": [
        "def reverse_name(first,last):\n",
        "  print(last,first)\n",
        "\n",
        "def main():\n",
        "  first_name = input('Enter your first name: ')\n",
        "  last_name=input('Enter your last name: ')\n",
        "  print('Your name reversed is')\n",
        "  reverse_name(first_name,last_name)\n",
        "\n",
        "main()"
      ],
      "metadata": {
        "colab": {
          "base_uri": "https://localhost:8080/"
        },
        "id": "QnC4fPNdQI0P",
        "outputId": "1bd7a2e3-26f3-4d80-ba65-ca0c792a20db"
      },
      "execution_count": 13,
      "outputs": [
        {
          "output_type": "stream",
          "name": "stdout",
          "text": [
            "Enter your first name: PAkin\n",
            "Enter your last name: Wasu\n",
            "Your name reversed is\n",
            "Wasu PAkin\n"
          ]
        }
      ]
    },
    {
      "cell_type": "code",
      "source": [
        "number = 0\n",
        "def main():\n",
        "  #global number\n",
        "  number = int(input('Enter a number: '))\n",
        "  show_number()\n",
        "\n",
        "def show_number():\n",
        "  print('The number you entered is',number)\n",
        "\n",
        "main()"
      ],
      "metadata": {
        "colab": {
          "base_uri": "https://localhost:8080/"
        },
        "id": "HABnOkCqRpMW",
        "outputId": "816e8021-dc52-4104-daff-ca3788513d9e"
      },
      "execution_count": 15,
      "outputs": [
        {
          "output_type": "stream",
          "name": "stdout",
          "text": [
            "Enter a number: 16\n",
            "The number you entered is 0\n"
          ]
        }
      ]
    },
    {
      "cell_type": "code",
      "source": [
        "import random\n",
        "\n",
        "HEADS = 1\n",
        "TALLS = 2\n",
        "TOSSES = 10\n",
        "def main ():\n",
        "  for toss in range(TOSSES):\n",
        "    if random.randint(HEADS,TALLS)==HEADS:\n",
        "      print('Heads')\n",
        "    else:\n",
        "      print('Tails')\n",
        "\n",
        "main()"
      ],
      "metadata": {
        "colab": {
          "base_uri": "https://localhost:8080/"
        },
        "id": "jv0X13MbTGde",
        "outputId": "ceb3aae9-c496-41fd-f487-7595d27d6a30"
      },
      "execution_count": 16,
      "outputs": [
        {
          "output_type": "stream",
          "name": "stdout",
          "text": [
            "Heads\n",
            "Heads\n",
            "Tails\n",
            "Tails\n",
            "Heads\n",
            "Tails\n",
            "Heads\n",
            "Tails\n",
            "Heads\n",
            "Tails\n"
          ]
        }
      ]
    },
    {
      "cell_type": "code",
      "source": [
        "DISCOUNT_PERCENTAGE = 0.20\n",
        "def main():\n",
        "  reg_price = get_regular_price()\n",
        "  sale_price = reg_price - discount(reg_price)\n",
        "  print('The sale price is $',format(sale_price,',.2f'),sep='')\n",
        "def get_regular_price():\n",
        "  price = float(input('Enter the item\\'s regular price: '))\n",
        "  return price\n",
        "def discount(price):\n",
        "  return price*DISCOUNT_PERCENTAGE\n",
        "main()\n"
      ],
      "metadata": {
        "colab": {
          "base_uri": "https://localhost:8080/"
        },
        "id": "p_emcrfMYxZU",
        "outputId": "c2a4635b-08d3-411e-c322-28eb70b71211"
      },
      "execution_count": 17,
      "outputs": [
        {
          "output_type": "stream",
          "name": "stdout",
          "text": [
            "Enter the item's regular price: 500\n",
            "The sale price is $400.00\n"
          ]
        }
      ]
    },
    {
      "cell_type": "code",
      "source": [
        "def get_name():\n",
        "  first = input('Enter your first name: ')\n",
        "  last = input('Enter your last name: ')\n",
        "  return first,last\n",
        "\n",
        "first_name , last_name = get_name()\n",
        "print('First name :',first_name,' Last name :',last_name)"
      ],
      "metadata": {
        "colab": {
          "base_uri": "https://localhost:8080/"
        },
        "id": "WVihoIL_aW87",
        "outputId": "31a330fd-dfdb-4078-db35-42601b533194"
      },
      "execution_count": 18,
      "outputs": [
        {
          "output_type": "stream",
          "name": "stdout",
          "text": [
            "Enter your first name: Pakin\n",
            "Enter your last name: Wasu\n",
            "First name : Pakin  Last name : Wasu\n"
          ]
        }
      ]
    },
    {
      "cell_type": "code",
      "source": [
        "abs(-4/3)\n"
      ],
      "metadata": {
        "colab": {
          "base_uri": "https://localhost:8080/"
        },
        "id": "M0mYXFFN9J32",
        "outputId": "25442eab-56e6-40b2-fdfd-ee3375b7f627"
      },
      "execution_count": 23,
      "outputs": [
        {
          "output_type": "execute_result",
          "data": {
            "text/plain": [
              "1.3333333333333333"
            ]
          },
          "metadata": {},
          "execution_count": 23
        }
      ]
    },
    {
      "cell_type": "code",
      "source": [
        "round(2/4)"
      ],
      "metadata": {
        "colab": {
          "base_uri": "https://localhost:8080/"
        },
        "id": "-qHWvvu69jw9",
        "outputId": "844ff497-f6b6-404e-bc4a-043b2a948a90"
      },
      "execution_count": 25,
      "outputs": [
        {
          "output_type": "execute_result",
          "data": {
            "text/plain": [
              "0"
            ]
          },
          "metadata": {},
          "execution_count": 25
        }
      ]
    },
    {
      "cell_type": "code",
      "source": [
        "min('AD','BDfg','CD')"
      ],
      "metadata": {
        "colab": {
          "base_uri": "https://localhost:8080/",
          "height": 35
        },
        "id": "F4ccnOXQ9m4t",
        "outputId": "5b307d97-510d-4a6b-b638-160477a12b31"
      },
      "execution_count": 27,
      "outputs": [
        {
          "output_type": "execute_result",
          "data": {
            "text/plain": [
              "'AD'"
            ],
            "application/vnd.google.colaboratory.intrinsic+json": {
              "type": "string"
            }
          },
          "metadata": {},
          "execution_count": 27
        }
      ]
    },
    {
      "cell_type": "code",
      "source": [
        "a=[123,59,78,6]\n",
        "b = [4/3,2/3,1/3,1/3,1/3]\n",
        "sorted(a)"
      ],
      "metadata": {
        "colab": {
          "base_uri": "https://localhost:8080/"
        },
        "id": "5Apk81vh-HG1",
        "outputId": "fb9830d5-cf5d-43f9-c87e-1d24d44560cc"
      },
      "execution_count": 30,
      "outputs": [
        {
          "output_type": "execute_result",
          "data": {
            "text/plain": [
              "[6, 59, 78, 123]"
            ]
          },
          "metadata": {},
          "execution_count": 30
        }
      ]
    },
    {
      "cell_type": "code",
      "source": [
        "b = [4/3,2/3,1/3,1/3,1/3]\n",
        "sum(b)"
      ],
      "metadata": {
        "colab": {
          "base_uri": "https://localhost:8080/"
        },
        "id": "xTH51ELp-x7V",
        "outputId": "87ecbeca-3bf5-418f-f697-84eb48db411d"
      },
      "execution_count": 31,
      "outputs": [
        {
          "output_type": "execute_result",
          "data": {
            "text/plain": [
              "3.0000000000000004"
            ]
          },
          "metadata": {},
          "execution_count": 31
        }
      ]
    }
  ]
}