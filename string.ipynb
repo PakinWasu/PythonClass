{
  "nbformat": 4,
  "nbformat_minor": 0,
  "metadata": {
    "colab": {
      "provenance": [],
      "authorship_tag": "ABX9TyMCa/sY+BB8bGtndHBZBsnR",
      "include_colab_link": true
    },
    "kernelspec": {
      "name": "python3",
      "display_name": "Python 3"
    },
    "language_info": {
      "name": "python"
    }
  },
  "cells": [
    {
      "cell_type": "markdown",
      "metadata": {
        "id": "view-in-github",
        "colab_type": "text"
      },
      "source": [
        "<a href=\"https://colab.research.google.com/github/PakinWasu/PythonClass/blob/main/string.ipynb\" target=\"_parent\"><img src=\"https://colab.research.google.com/assets/colab-badge.svg\" alt=\"Open In Colab\"/></a>"
      ]
    },
    {
      "cell_type": "code",
      "execution_count": 1,
      "metadata": {
        "colab": {
          "base_uri": "https://localhost:8080/",
          "height": 210
        },
        "id": "dIi9sfJf0WHN",
        "outputId": "f516e3d8-6c23-465c-b1a5-76ddc9e8831f"
      },
      "outputs": [
        {
          "output_type": "error",
          "ename": "TypeError",
          "evalue": "ignored",
          "traceback": [
            "\u001b[0;31m---------------------------------------------------------------------------\u001b[0m",
            "\u001b[0;31mTypeError\u001b[0m                                 Traceback (most recent call last)",
            "\u001b[0;32m<ipython-input-1-b30eecd77ef8>\u001b[0m in \u001b[0;36m<cell line: 2>\u001b[0;34m()\u001b[0m\n\u001b[1;32m      1\u001b[0m \u001b[0mfriend\u001b[0m \u001b[0;34m=\u001b[0m \u001b[0;34m'kill'\u001b[0m\u001b[0;34m\u001b[0m\u001b[0;34m\u001b[0m\u001b[0m\n\u001b[0;32m----> 2\u001b[0;31m \u001b[0mfriend\u001b[0m\u001b[0;34m[\u001b[0m\u001b[0;36m0\u001b[0m\u001b[0;34m]\u001b[0m \u001b[0;34m=\u001b[0m \u001b[0;34m'w'\u001b[0m\u001b[0;34m\u001b[0m\u001b[0;34m\u001b[0m\u001b[0m\n\u001b[0m\u001b[1;32m      3\u001b[0m \u001b[0mprint\u001b[0m\u001b[0;34m(\u001b[0m\u001b[0mfriend\u001b[0m\u001b[0;34m)\u001b[0m\u001b[0;34m\u001b[0m\u001b[0;34m\u001b[0m\u001b[0m\n",
            "\u001b[0;31mTypeError\u001b[0m: 'str' object does not support item assignment"
          ]
        }
      ],
      "source": [
        "friend = 'kill'\n",
        "friend[0] = 'w'\n",
        "print(friend)"
      ]
    },
    {
      "cell_type": "code",
      "source": [
        "ss = \"Sammy Shark!\"\n",
        "print(ss[4])\n",
        "print(ss[:5])\n",
        "print(ss[7:])\n",
        "print(ss[-4:-1])\n",
        "print(ss[6:11])\n",
        "print(ss[6:11:1])\n",
        "print(ss[0:12:2])\n",
        "print(ss[0:12:4])\n",
        "print(ss[::4])\n",
        "print(ss[::-1])\n",
        "print(ss[::-2])"
      ],
      "metadata": {
        "colab": {
          "base_uri": "https://localhost:8080/"
        },
        "id": "p6hCZQmz1Nt_",
        "outputId": "91f26d50-2271-4a36-d91e-4e9d28fe2634"
      },
      "execution_count": 5,
      "outputs": [
        {
          "output_type": "stream",
          "name": "stdout",
          "text": [
            "y\n",
            "Sammy\n",
            "hark!\n",
            "ark\n",
            "Shark\n",
            "Shark\n",
            "SmySak\n",
            "Sya\n",
            "Sya\n",
            "!krahS ymmaS\n",
            "!rh ma\n"
          ]
        }
      ]
    }
  ]
}